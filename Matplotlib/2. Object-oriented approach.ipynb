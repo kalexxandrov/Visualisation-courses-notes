{
 "cells": [
  {
   "cell_type": "markdown",
   "metadata": {},
   "source": [
    "# **Функции figure() и axis(). Нанесение координатных осей на график**\n",
    "\n",
    "Объектно-ориентированный подход при построении графиков используется для более детальной настройки как внешнего вида графиков, так и их внутреннего наполнения.\n",
    "\n",
    "Два основных объекта в Matplotlib - **Figure** и **Axes**. Объект **Figure** - это холст, на котором размещаются координатные оси (объекты **Axes**). На одном таком холсте может быть размещено несколько координатных осей. То есть объект **Figure** может одновременно \"работать\" с несколькими объектами **Axes**.\n",
    "\n",
    "## **Объект Figure**\n",
    "\n",
    "Объект **Figure** создается функцией `plt.figure()`.\n",
    "\n",
    "Параметры:\n",
    "* `figsize`: задаёт размеры объекта, на вход принимает кортеж с размерами (по умолчанию (6.4, 4.8), что соответствует разрешению 640x480).\n",
    "* `dpi`: задаёт количество точек на дюйм (по умолчанию 100)."
   ]
  },
  {
   "cell_type": "code",
   "execution_count": 8,
   "metadata": {},
   "outputs": [
    {
     "data": {
      "text/plain": [
       "<Figure size 640x480 with 0 Axes>"
      ]
     },
     "metadata": {},
     "output_type": "display_data"
    }
   ],
   "source": [
    "# создание стандартного объекта figure()\n",
    "import matplotlib.pyplot as plt\n",
    "\n",
    "plt.figure()\n",
    "\n",
    "plt.show()"
   ]
  },
  {
   "cell_type": "code",
   "execution_count": 9,
   "metadata": {},
   "outputs": [
    {
     "data": {
      "text/plain": [
       "<Figure size 800x600 with 0 Axes>"
      ]
     },
     "metadata": {},
     "output_type": "display_data"
    }
   ],
   "source": [
    "# изменение размеров figure при помощи параметра figsize\n",
    "import matplotlib.pyplot as plt\n",
    "\n",
    "plt.figure(figsize=(8,6))\n",
    "\n",
    "plt.show()"
   ]
  },
  {
   "cell_type": "code",
   "execution_count": 10,
   "metadata": {},
   "outputs": [
    {
     "data": {
      "text/plain": [
       "<Figure size 1600x1200 with 0 Axes>"
      ]
     },
     "metadata": {},
     "output_type": "display_data"
    }
   ],
   "source": [
    "# изменение размеров figure при помощи параметров figsize и dpi\n",
    "import matplotlib.pyplot as plt\n",
    "\n",
    "plt.figure(figsize=(8,6), dpi=200)\n",
    "\n",
    "plt.show()"
   ]
  }
 ],
 "metadata": {
  "kernelspec": {
   "display_name": "Python 3",
   "language": "python",
   "name": "python3"
  },
  "language_info": {
   "codemirror_mode": {
    "name": "ipython",
    "version": 3
   },
   "file_extension": ".py",
   "mimetype": "text/x-python",
   "name": "python",
   "nbconvert_exporter": "python",
   "pygments_lexer": "ipython3",
   "version": "3.12.6"
  }
 },
 "nbformat": 4,
 "nbformat_minor": 2
}
